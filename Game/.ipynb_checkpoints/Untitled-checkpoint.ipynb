{
 "cells": [
  {
   "cell_type": "code",
   "execution_count": 6,
   "id": "93440d45-ff1d-4edf-8d7c-2d33586793f5",
   "metadata": {},
   "outputs": [
    {
     "name": "stdout",
     "output_type": "stream",
     "text": [
      "Welcome to my first game!\n"
     ]
    },
    {
     "name": "stdin",
     "output_type": "stream",
     "text": [
      "Enter your name ibrahim\n",
      "Enter your age 45\n"
     ]
    },
    {
     "name": "stdout",
     "output_type": "stream",
     "text": [
      "your can play\n"
     ]
    },
    {
     "name": "stdin",
     "output_type": "stream",
     "text": [
      "Do you want to play (yes or no):  yes\n"
     ]
    },
    {
     "name": "stdout",
     "output_type": "stream",
     "text": [
      "Your health is 10\n"
     ]
    },
    {
     "name": "stdin",
     "output_type": "stream",
     "text": [
      "Do you want to go left or right:  left\n",
      "There are two ways zoo or forest where you want to go:  zoo\n",
      "In the zoo the lion attacked you and your health is 5 you have two ways run or hide:  hide\n"
     ]
    },
    {
     "name": "stdout",
     "output_type": "stream",
     "text": [
      "you passed this misson\n"
     ]
    }
   ],
   "source": [
    "print(\"Welcome to my first game!\")\n",
    "name=input(\"Enter your name\")\n",
    "age=int(input(\"Enter your age\"))\n",
    "\n",
    "if age>=18:\n",
    "    print(\"your can play\")\n",
    "    ask=input(\"Do you want to play (yes or no): \")\n",
    "    if ask==\"yes\":\n",
    "        print(\"Your health is 10\")\n",
    "        rl=input(\"Do you want to go left or right: \")\n",
    "        if rl==\"right\":\n",
    "            print(\"your Die instantly!\")\n",
    "        elif rl==\"left\":\n",
    "            zf=input(\"There are two ways zoo or forest where you want to go: \")\n",
    "            if zf==\"forest\":\n",
    "                print(\"your Die instantly!\")\n",
    "            elif zf==\"zoo\":\n",
    "                rh=input(\"In the zoo the lion attacked you and your health is 5 you have two ways run or hide: \")\n",
    "                if rh==\"hide\":\n",
    "                    print(\"you passed this misson\")\n",
    "                else:\n",
    "                    print(\"The lion is faster then you and you Died Good luck next time: \")\n",
    "            \n",
    "    else:\n",
    "        print(\"Its ok see you next time!\")    \n",
    "elif age<=17:\n",
    "    print(\"you are to young to play the game!\")\n",
    "    print(\"Sorry!\")\n",
    "else:\n",
    "    print(\"Incorect output\")"
   ]
  }
 ],
 "metadata": {
  "kernelspec": {
   "display_name": "Python 3 (ipykernel)",
   "language": "python",
   "name": "python3"
  },
  "language_info": {
   "codemirror_mode": {
    "name": "ipython",
    "version": 3
   },
   "file_extension": ".py",
   "mimetype": "text/x-python",
   "name": "python",
   "nbconvert_exporter": "python",
   "pygments_lexer": "ipython3",
   "version": "3.11.7"
  }
 },
 "nbformat": 4,
 "nbformat_minor": 5
}
