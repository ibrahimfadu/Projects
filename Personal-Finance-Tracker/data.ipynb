{
 "cells": [
  {
   "cell_type": "code",
   "execution_count": 1,
   "id": "fccfd9a1-8f2a-421a-90fc-7533c18152c6",
   "metadata": {},
   "outputs": [],
   "source": [
    "from datetime import datetime\n",
    "CATOGERIES={\n",
    "    'I':\"Income\",\n",
    "    'E':'Expense'\n",
    "}"
   ]
  },
  {
   "cell_type": "code",
   "execution_count": 2,
   "id": "74e1a927-2ce7-4504-9028-f4cd87b70abc",
   "metadata": {},
   "outputs": [],
   "source": [
    "def get_date(prompt,allow_default=False):\n",
    "    date_for=input(prompt)\n",
    "    if allow_default is not date_for :\n",
    "        return datetime.today().strftime(\"%d-%m-%Y\")\n",
    "    try:\n",
    "        valid_date=datetime.strptime(date_for)\n",
    "        return valid_date.strftime(\"%d-%m-%Y\")\n",
    "    except ValueError as e:\n",
    "        print (\"invalid date formate\")\n",
    "        return get_date(prompt,all)\n",
    "    "
   ]
  },
  {
   "cell_type": "code",
   "execution_count": 3,
   "id": "3b7eaad1-ddd8-462f-b3d0-6c102f34ebdb",
   "metadata": {},
   "outputs": [],
   "source": [
    "def get_amount():\n",
    "    amount=float(input(\"Enter the amount\"))\n",
    "    try :\n",
    "        if amount <=0:\n",
    "            print(\"amount must non negative or non zero\")\n",
    "            return get_amount\n",
    "        return amount\n",
    "    except ValueError as e:\n",
    "        print(e)\n",
    "        return get_amount\n",
    "        "
   ]
  },
  {
   "cell_type": "code",
   "execution_count": 4,
   "id": "92fc873f-bafa-421d-9c02-b82ab9d28919",
   "metadata": {},
   "outputs": [],
   "source": [
    "def get_category():\n",
    "    category=input(\"Enter the category I for Income and E for Expense\")\n",
    "    if category in CATOGERIES:\n",
    "        return CATOGERIES[category]\n",
    "    print(\"Invalid category Please enter correctly\")\n",
    "    return get_category"
   ]
  },
  {
   "cell_type": "code",
   "execution_count": 5,
   "id": "6c97bb4f-a308-483c-a77f-4afaad5bd036",
   "metadata": {},
   "outputs": [],
   "source": [
    "def get_description():\n",
    "    return input(\"Enter description (optional) :\")"
   ]
  },
  {
   "cell_type": "code",
   "execution_count": null,
   "id": "957bbf61-c414-4b27-a4bb-7c4b96a50695",
   "metadata": {},
   "outputs": [],
   "source": []
  }
 ],
 "metadata": {
  "kernelspec": {
   "display_name": "Python 3 (ipykernel)",
   "language": "python",
   "name": "python3"
  },
  "language_info": {
   "codemirror_mode": {
    "name": "ipython",
    "version": 3
   },
   "file_extension": ".py",
   "mimetype": "text/x-python",
   "name": "python",
   "nbconvert_exporter": "python",
   "pygments_lexer": "ipython3",
   "version": "3.11.7"
  }
 },
 "nbformat": 4,
 "nbformat_minor": 5
}
