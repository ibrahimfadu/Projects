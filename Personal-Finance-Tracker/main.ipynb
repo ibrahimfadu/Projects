{
 "cells": [
  {
   "cell_type": "code",
   "execution_count": 1,
   "id": "2031efd7-534b-4607-874a-4ccf74115ed4",
   "metadata": {},
   "outputs": [],
   "source": [
    "import pandas as pd\n",
    "import csv\n",
    "import "
   ]
  },
  {
   "cell_type": "code",
   "execution_count": null,
   "id": "5db12e3c-b2e9-4cc5-a786-4f4457a4b13c",
   "metadata": {},
   "outputs": [],
   "source": []
  },
  {
   "cell_type": "code",
   "execution_count": 2,
   "id": "11cf6435-8232-40cf-bf05-eac4bf47ea36",
   "metadata": {},
   "outputs": [],
   "source": [
    "class CSV:\n",
    "    CSV_FILE='Financial_report.csv'\n",
    "    COLUMNS=['date','aCSV.initalize()\n",
    "CSV.add_entry(\"01-01-2004\",20000,\"Income\",\"Salary\")mount','category','description']\n",
    "    @classmethod\n",
    "    def initalize(cls):\n",
    "        try:\n",
    "            pd.read_csv(cls.CSV_FILE)\n",
    "        except FileNotFoundError:\n",
    "            df=pd.DataFrame(columns=cls.COLUMNS)\n",
    "            df.to_csv(cls.CSV_FILE,index=False)\n",
    "    @classmethod\n",
    "    def add_entry(cls,date,amount,category,description):\n",
    "        new_entry={\n",
    "            \"date\":date,\n",
    "            \"amount\":amount,\n",
    "            \"category\":category,\n",
    "            \"description\":description\n",
    "        }\n",
    "        with open(cls.CSV_FILE,\"a\",newline=\"\") as csvfile:\n",
    "            writer=csv.DictWriter(csvfile,fieldnames=cls.COLUMNS)\n",
    "            writer.writerow(new_entry)\n",
    "        \n",
    "def add():\n",
    "    CSV.initalize()\n",
    "    date=data\n",
    "    CSV.add_entry(date,amount,category,description)\n",
    "    "
   ]
  }
 ],
 "metadata": {
  "kernelspec": {
   "display_name": "Python 3 (ipykernel)",
   "language": "python",
   "name": "python3"
  },
  "language_info": {
   "codemirror_mode": {
    "name": "ipython",
    "version": 3
   },
   "file_extension": ".py",
   "mimetype": "text/x-python",
   "name": "python",
   "nbconvert_exporter": "python",
   "pygments_lexer": "ipython3",
   "version": "3.11.7"
  }
 },
 "nbformat": 4,
 "nbformat_minor": 5
}
